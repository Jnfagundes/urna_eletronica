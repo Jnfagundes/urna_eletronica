{
  "nbformat": 4,
  "nbformat_minor": 0,
  "metadata": {
    "colab": {
      "provenance": [],
      "authorship_tag": "ABX9TyObItHICGZtz33Admhhu3J4",
      "include_colab_link": true
    },
    "kernelspec": {
      "name": "python3",
      "display_name": "Python 3"
    },
    "language_info": {
      "name": "python"
    }
  },
  "cells": [
    {
      "cell_type": "markdown",
      "metadata": {
        "id": "view-in-github",
        "colab_type": "text"
      },
      "source": [
        "<a href=\"https://colab.research.google.com/github/Jnfagundes/urna_eletronica/blob/main/UrnaEletronica.ipynb\" target=\"_parent\"><img src=\"https://colab.research.google.com/assets/colab-badge.svg\" alt=\"Open In Colab\"/></a>"
      ]
    },
    {
      "cell_type": "code",
      "execution_count": null,
      "metadata": {
        "id": "qHXja5PnTHmk"
      },
      "outputs": [],
      "source": [
        "print(\"Criação do código fonte de uma urna simulada:\")"
      ]
    },
    {
      "cell_type": "markdown",
      "source": [
        "A urna conterá quatro candidatos para receber os votos.\n",
        "\n",
        "*   Item da lista\n",
        "*   Item da lista\n",
        "\n",
        "\n",
        "Contará também com vinte eleitores."
      ],
      "metadata": {
        "id": "iUjfNf1PTaUR"
      }
    },
    {
      "cell_type": "code",
      "source": [
        "def candidatos():\n",
        "  ciro = 0\n",
        "  lula = 0\n",
        "  bolsonaro = 0\n",
        "  tebet = 0\n",
        "  candidato = int(input(\"Digite o número do candidato: \"))\n",
        "  if candidato == 12:\n",
        "    voto = int(input(\"Seu candidato é Ciro Gomes. Digite 1 para confirmar ou 0 para corrigir: \"))\n",
        "    if voto == 1:\n",
        "      ciro = ciro + 1\n",
        "\n",
        "  elif candidato == 13:\n",
        "    voto = int(input(\"Seu candidato é Luiz Inácio Lula da Silva. Digite 1 para confirmar ou 0 para corrigir: \"))\n",
        "    if voto == 1:\n",
        "      lula = lula + 1 \n",
        "\n",
        "  elif candidato == 15:\n",
        "    voto = int(input(\"Seu candidato é Simone Tebet. Digite 1 para confirmar ou 0 para corrigir: \"))\n",
        "    if voto == 1: \n",
        "      tebet = tebet + 1\n",
        "\n",
        "  elif candidato == 22:\n",
        "    voto = int(input(\"Seu candidato é Ciro Gomes. Digite 1 para confirmar ou 0 para corrigir: \"))\n",
        "    if voto == 1: \n",
        "      bolsonaro = bolsonaro + 1\n",
        "\n",
        "  else:\n",
        "    print(\"Esse número não pertence a lista de candidatos:\") \n",
        "    print(\"Se você confirmar, seu voto será anulado\") \n",
        "    op = int(input(\"Deseja confirmar? Digite 1 para sim ou 0 para não: \")) \n",
        "    if op == 1:\n",
        "      contNulo = contNulo + 1    \n",
        "\n",
        "  print(\"********************* Boletim de Urna ************************\")    \n",
        "  return \n",
        "  "
      ],
      "metadata": {
        "id": "fZRxiexP0Pb3"
      },
      "execution_count": null,
      "outputs": []
    },
    {
      "cell_type": "code",
      "source": [
        "def eleitores():\n",
        "  controle = 1\n",
        "  contBranco = 0\n",
        "  contNulo = 0\n",
        "  while controle < 5:\n",
        "    print(f\"===================== Eleitor {controle} votando =================\")\n",
        "    print(\"\"\"Escolha uma opção: \n",
        "              1 => Voto em branco\n",
        "              2 => Voto nulo\n",
        "              3 => Começar voto\"\"\")\n",
        "    \n",
        "    opcao = int(input(\"O que deseja fazer: \"))\n",
        "    if opcao == 1:\n",
        "      print(\"Você deseja votar em branco? \")\n",
        "      salvar = int(input(\"Digite 1 para confirmar ou 2 para cancelar: \"))\n",
        "      if salvar == 1:\n",
        "        contBranco = contBranco + 1\n",
        "    elif opcao == 2:\n",
        "       print(\"Você deseja votar nulo? \")\n",
        "       salvar = int(input(\"Digite 1 para confirmar ou 2 para cancelar: \"))\n",
        "       if salvar == 1:\n",
        "         contNulo = contNulo + 1\n",
        "    elif opcao == 3:\n",
        "      voto = candidatos()\n",
        "    else:\n",
        "      print(\"Digite uma p\")  \n",
        "    controle = controle + 1\n",
        "\n",
        "eleitores()\n"
      ],
      "metadata": {
        "id": "fmmchspMTqiw"
      },
      "execution_count": null,
      "outputs": []
    },
    {
      "cell_type": "code",
      "source": [],
      "metadata": {
        "id": "5wfLMylPizXQ"
      },
      "execution_count": null,
      "outputs": []
    }
  ]
}