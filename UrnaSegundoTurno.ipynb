{
  "nbformat": 4,
  "nbformat_minor": 0,
  "metadata": {
    "colab": {
      "provenance": [],
      "authorship_tag": "ABX9TyPL3emeuSkxAiPVaZqLkTPp",
      "include_colab_link": true
    },
    "kernelspec": {
      "name": "python3",
      "display_name": "Python 3"
    },
    "language_info": {
      "name": "python"
    }
  },
  "cells": [
    {
      "cell_type": "markdown",
      "metadata": {
        "id": "view-in-github",
        "colab_type": "text"
      },
      "source": [
        "<a href=\"https://colab.research.google.com/github/Jnfagundes/urna_eletronica/blob/main/UrnaSegundoTurno.ipynb\" target=\"_parent\"><img src=\"https://colab.research.google.com/assets/colab-badge.svg\" alt=\"Open In Colab\"/></a>"
      ]
    },
    {
      "cell_type": "code",
      "execution_count": 7,
      "metadata": {
        "id": "3JlmEwetGLTh",
        "colab": {
          "base_uri": "https://localhost:8080/"
        },
        "outputId": "0ce58be1-e97d-4ea7-fb2c-72ed1e40bf97"
      },
      "outputs": [
        {
          "output_type": "stream",
          "name": "stdout",
          "text": [
            "========== Eleições 2022 =============\n",
            "Digite o número do seu candidato: 13\n",
            "Digite o número do seu candidato: 13\n",
            "Digite o número do seu candidato: 13\n",
            "Digite o número do seu candidato: 22\n",
            "Digite o número do seu candidato: 2\n",
            "O que deseja fazer? \n",
            "              1 -> Anular o voto\n",
            "              2 -> Votar em branco\n",
            "Digite sua opção: 1\n",
            " ============== Boletim de Urna ==================\n",
            "O candidato Bolsonaro recebeu 1 votos \n",
            "O condidato Lula recebeu 3 votos\n",
            "Tivemos 0 vostos brancos e 1 votos nulos.\n"
          ]
        }
      ],
      "source": [
        "print(\"========== Eleições 2022 =============\")\n",
        "\n",
        "def votos():\n",
        "  eleitores = 0\n",
        "  lula = 0\n",
        "  bolsonaro = 0\n",
        "  nulo = 0\n",
        "  branco = 0\n",
        "  while eleitores < 5:\n",
        "    \n",
        "    candidatos = int(input(\"Digite o número do seu candidato: \"))\n",
        "    \n",
        "    if candidatos == 13:\n",
        "      lula = lula + 1\n",
        "    elif candidatos ==22:\n",
        "      bolsonaro = bolsonaro + 1\n",
        "    else:\n",
        "      print(\"\"\"O que deseja fazer? \n",
        "              1 -> Anular o voto\n",
        "              2 -> Votar em branco\"\"\") \n",
        "      op = int(input(\"Digite sua opção: \")) \n",
        "      if  op == 1:\n",
        "        nulo = nulo + 1\n",
        "      elif op ==2:\n",
        "        branco = branco + 1\n",
        "      else:\n",
        "        print(\"Seu voto não será computado.\")    \n",
        "\n",
        "    eleitores = eleitores + 1\n",
        "  print(\" ============== Boletim de Urna ==================\")\n",
        "  print(f\"O candidato Bolsonaro recebeu {bolsonaro} votos \")\n",
        "  print(f\"O condidato Lula recebeu {lula} votos\")\n",
        "  print(f\"Tivemos {branco} vostos brancos e {nulo} votos nulos.\")\n",
        "voto = votos()"
      ]
    }
  ]
}